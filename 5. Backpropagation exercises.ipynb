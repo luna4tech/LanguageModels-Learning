{
 "cells": [
  {
   "cell_type": "markdown",
   "metadata": {
    "id": "rToK0Tku8PPn"
   },
   "source": [
    "## makemore: becoming a backprop ninja"
   ]
  },
  {
   "cell_type": "code",
   "execution_count": null,
   "metadata": {
    "id": "8sFElPqq8PPp"
   },
   "outputs": [],
   "source": [
    "# there no change change in the first several cells from last lecture"
   ]
  },
  {
   "cell_type": "code",
   "execution_count": 53,
   "metadata": {
    "id": "ChBbac4y8PPq"
   },
   "outputs": [],
   "source": [
    "import torch\n",
    "import torch.nn.functional as F\n",
    "import matplotlib.pyplot as plt # for making figures\n",
    "%matplotlib inline"
   ]
  },
  {
   "cell_type": "code",
   "execution_count": 2,
   "metadata": {
    "colab": {
     "base_uri": "https://localhost:8080/"
    },
    "id": "x6GhEWW18aCS",
    "outputId": "cedb6bcd-a8a5-4848-90ec-2765fbd8a369"
   },
   "outputs": [
    {
     "name": "stderr",
     "output_type": "stream",
     "text": [
      "'wget' is not recognized as an internal or external command,\n",
      "operable program or batch file.\n"
     ]
    }
   ],
   "source": [
    "# download the names.txt file from github\n",
    "!wget https://raw.githubusercontent.com/karpathy/makemore/master/names.txt"
   ]
  },
  {
   "cell_type": "code",
   "execution_count": 54,
   "metadata": {
    "colab": {
     "base_uri": "https://localhost:8080/"
    },
    "id": "klmu3ZG08PPr",
    "outputId": "84f2b708-b42c-435f-e818-27c153126f4e"
   },
   "outputs": [
    {
     "name": "stdout",
     "output_type": "stream",
     "text": [
      "32033\n",
      "15\n",
      "['emma', 'olivia', 'ava', 'isabella', 'sophia', 'charlotte', 'mia', 'amelia']\n"
     ]
    }
   ],
   "source": [
    "# read in all the words\n",
    "words = open('names.txt', 'r').read().splitlines()\n",
    "print(len(words))\n",
    "print(max(len(w) for w in words))\n",
    "print(words[:8])"
   ]
  },
  {
   "cell_type": "code",
   "execution_count": 55,
   "metadata": {
    "colab": {
     "base_uri": "https://localhost:8080/"
    },
    "id": "BCQomLE_8PPs",
    "outputId": "fc7a5023-5f69-4a90-feb7-c3b61b36d2fa"
   },
   "outputs": [
    {
     "name": "stdout",
     "output_type": "stream",
     "text": [
      "{1: 'a', 2: 'b', 3: 'c', 4: 'd', 5: 'e', 6: 'f', 7: 'g', 8: 'h', 9: 'i', 10: 'j', 11: 'k', 12: 'l', 13: 'm', 14: 'n', 15: 'o', 16: 'p', 17: 'q', 18: 'r', 19: 's', 20: 't', 21: 'u', 22: 'v', 23: 'w', 24: 'x', 25: 'y', 26: 'z', 0: '.'}\n",
      "27\n"
     ]
    }
   ],
   "source": [
    "# build the vocabulary of characters and mappings to/from integers\n",
    "chars = sorted(list(set(''.join(words))))\n",
    "stoi = {s:i+1 for i,s in enumerate(chars)}\n",
    "stoi['.'] = 0\n",
    "itos = {i:s for s,i in stoi.items()}\n",
    "vocab_size = len(itos)\n",
    "print(itos)\n",
    "print(vocab_size)"
   ]
  },
  {
   "cell_type": "code",
   "execution_count": 56,
   "metadata": {
    "colab": {
     "base_uri": "https://localhost:8080/"
    },
    "id": "V_zt2QHr8PPs",
    "outputId": "2872166e-be68-4698-86ae-da17de6c801a"
   },
   "outputs": [
    {
     "name": "stdout",
     "output_type": "stream",
     "text": [
      "torch.Size([182625, 3]) torch.Size([182625])\n",
      "torch.Size([22655, 3]) torch.Size([22655])\n",
      "torch.Size([22866, 3]) torch.Size([22866])\n"
     ]
    }
   ],
   "source": [
    "# build the dataset\n",
    "block_size = 3 # context length: how many characters do we take to predict the next one?\n",
    "\n",
    "def build_dataset(words):  \n",
    "  X, Y = [], []\n",
    "  \n",
    "  for w in words:\n",
    "    context = [0] * block_size\n",
    "    for ch in w + '.':\n",
    "      ix = stoi[ch]\n",
    "      X.append(context)\n",
    "      Y.append(ix)\n",
    "      context = context[1:] + [ix] # crop and append\n",
    "\n",
    "  X = torch.tensor(X)\n",
    "  Y = torch.tensor(Y)\n",
    "  print(X.shape, Y.shape)\n",
    "  return X, Y\n",
    "\n",
    "import random\n",
    "random.seed(42)\n",
    "random.shuffle(words)\n",
    "n1 = int(0.8*len(words))\n",
    "n2 = int(0.9*len(words))\n",
    "\n",
    "Xtr,  Ytr  = build_dataset(words[:n1])     # 80%\n",
    "Xdev, Ydev = build_dataset(words[n1:n2])   # 10%\n",
    "Xte,  Yte  = build_dataset(words[n2:])     # 10%"
   ]
  },
  {
   "cell_type": "code",
   "execution_count": null,
   "metadata": {
    "id": "eg20-vsg8PPt"
   },
   "outputs": [],
   "source": [
    "# ok biolerplate done, now we get to the action:"
   ]
  },
  {
   "cell_type": "code",
   "execution_count": 106,
   "metadata": {
    "id": "MJPU8HT08PPu"
   },
   "outputs": [],
   "source": [
    "# utility function we will use later when comparing manual gradients to PyTorch gradients\n",
    "def cmp(s, dt, t):\n",
    "  ex = torch.all(dt == t.grad).item()\n",
    "  app = torch.allclose(dt, t.grad)\n",
    "  maxdiff = (dt - t.grad).abs().max().item()\n",
    "  print(f'{s:15s} | exact: {str(ex):5s} | approximate: {str(app):5s} | maxdiff: {maxdiff}')"
   ]
  },
  {
   "cell_type": "code",
   "execution_count": 107,
   "metadata": {
    "colab": {
     "base_uri": "https://localhost:8080/"
    },
    "id": "ZlFLjQyT8PPu",
    "outputId": "8a433976-5de2-4fc9-dd0e-d6e10ef68dd5"
   },
   "outputs": [
    {
     "name": "stdout",
     "output_type": "stream",
     "text": [
      "4137\n"
     ]
    }
   ],
   "source": [
    "n_embd = 10 # the dimensionality of the character embedding vectors\n",
    "n_hidden = 64 # the number of neurons in the hidden layer of the MLP\n",
    "block_size = 3\n",
    "\n",
    "g = torch.Generator().manual_seed(2147483647) # for reproducibility\n",
    "C  = torch.randn((vocab_size, n_embd),            generator=g)\n",
    "# Layer 1\n",
    "W1 = torch.randn((n_embd * block_size, n_hidden), generator=g) * (5/3)/((n_embd * block_size)**0.5)\n",
    "b1 = torch.randn(n_hidden,                        generator=g) * 0.1 # using b1 just for fun, it's useless because of BN\n",
    "# Layer 2\n",
    "W2 = torch.randn((n_hidden, vocab_size),          generator=g) * 0.1\n",
    "b2 = torch.randn(vocab_size,                      generator=g) * 0.1\n",
    "# BatchNorm parameters\n",
    "bngain = torch.randn((1, n_hidden))*0.1 + 1.0\n",
    "bnbias = torch.randn((1, n_hidden))*0.1\n",
    "\n",
    "# Note: I am initializating many of these parameters in non-standard ways\n",
    "# because sometimes initializating with e.g. all zeros could mask an incorrect\n",
    "# implementation of the backward pass.\n",
    "\n",
    "parameters = [C, W1, b1, W2, b2, bngain, bnbias]\n",
    "print(sum(p.nelement() for p in parameters)) # number of parameters in total\n",
    "for p in parameters:\n",
    "  p.requires_grad = True"
   ]
  },
  {
   "cell_type": "code",
   "execution_count": 108,
   "metadata": {
    "id": "QY-y96Y48PPv"
   },
   "outputs": [],
   "source": [
    "batch_size = 32\n",
    "n = batch_size # a shorter variable also, for convenience\n",
    "# construct a minibatch\n",
    "ix = torch.randint(0, Xtr.shape[0], (batch_size,), generator=g)\n",
    "Xb, Yb = Xtr[ix], Ytr[ix] # batch X,Y"
   ]
  },
  {
   "cell_type": "code",
   "execution_count": 204,
   "metadata": {},
   "outputs": [
    {
     "data": {
      "text/plain": [
       "torch.Size([1, 64])"
      ]
     },
     "execution_count": 204,
     "metadata": {},
     "output_type": "execute_result"
    }
   ],
   "source": [
    "bnmeani.shape"
   ]
  },
  {
   "cell_type": "code",
   "execution_count": 227,
   "metadata": {
    "colab": {
     "base_uri": "https://localhost:8080/"
    },
    "id": "8ofj1s6d8PPv",
    "outputId": "20785fbd-9bc5-4862-dce1-338929c3dbed"
   },
   "outputs": [
    {
     "data": {
      "text/plain": [
       "tensor(3.7614, grad_fn=<NegBackward0>)"
      ]
     },
     "execution_count": 227,
     "metadata": {},
     "output_type": "execute_result"
    }
   ],
   "source": [
    "# forward pass, \"chunkated\" into smaller steps that are possible to backward one at a time\n",
    "\n",
    "emb = C[Xb] # embed the characters into vectors\n",
    "embcat = emb.view(emb.shape[0], -1) # concatenate the vectors\n",
    "# Linear layer 1\n",
    "hprebn = embcat @ W1 + b1 # hidden layer pre-activation\n",
    "# BatchNorm layer\n",
    "bnmeani = 1/n*hprebn.sum(0, keepdim=True)\n",
    "bndiff = hprebn - bnmeani\n",
    "bndiff2 = bndiff**2\n",
    "bnvar = 1/(n-1)*(bndiff2).sum(0, keepdim=True) # note: Bessel's correction (dividing by n-1, not n)\n",
    "bnvar_inv = (bnvar + 1e-5)**-0.5\n",
    "bnraw = bndiff * bnvar_inv\n",
    "hpreact = bngain * bnraw + bnbias\n",
    "# Non-linearity\n",
    "h = torch.tanh(hpreact) # hidden layer\n",
    "# Linear layer 2\n",
    "logits = h @ W2 + b2 # output layer\n",
    "# cross entropy loss (same as F.cross_entropy(logits, Yb))\n",
    "logit_maxes = logits.max(1, keepdim=True).values\n",
    "norm_logits = logits - logit_maxes # subtract max for numerical stability\n",
    "counts = norm_logits.exp()\n",
    "counts_sum = counts.sum(1, keepdims=True)\n",
    "counts_sum_inv = counts_sum**-1 # if I use (1.0 / counts_sum) instead then I can't get backprop to be bit exact...\n",
    "probs = counts * counts_sum_inv\n",
    "logprobs = probs.log()\n",
    "loss = -logprobs[range(n), Yb].mean()\n",
    "\n",
    "# PyTorch backward pass\n",
    "for p in parameters:\n",
    "  p.grad = None\n",
    "for t in [logprobs, probs, counts, counts_sum, counts_sum_inv, # afaik there is no cleaner way\n",
    "          norm_logits, logit_maxes, logits, h, hpreact, bnraw,\n",
    "         bnvar_inv, bnvar, bndiff2, bndiff, hprebn, bnmeani,\n",
    "         embcat, emb]:\n",
    "  t.retain_grad()\n",
    "loss.backward()\n",
    "loss"
   ]
  },
  {
   "cell_type": "code",
   "execution_count": 228,
   "metadata": {
    "id": "mO-8aqxK8PPw"
   },
   "outputs": [
    {
     "name": "stdout",
     "output_type": "stream",
     "text": [
      "logprobs        | exact: True  | approximate: True  | maxdiff: 0.0\n",
      "probs           | exact: True  | approximate: True  | maxdiff: 0.0\n",
      "counts_sum_inv  | exact: True  | approximate: True  | maxdiff: 0.0\n",
      "counts_sum      | exact: True  | approximate: True  | maxdiff: 0.0\n",
      "counts          | exact: True  | approximate: True  | maxdiff: 0.0\n",
      "norm_logits     | exact: True  | approximate: True  | maxdiff: 0.0\n",
      "logit_maxes     | exact: True  | approximate: True  | maxdiff: 0.0\n",
      "logits          | exact: True  | approximate: True  | maxdiff: 0.0\n",
      "h               | exact: True  | approximate: True  | maxdiff: 0.0\n",
      "W2              | exact: True  | approximate: True  | maxdiff: 0.0\n",
      "b2              | exact: True  | approximate: True  | maxdiff: 0.0\n",
      "hpreact         | exact: True  | approximate: True  | maxdiff: 0.0\n",
      "bngain          | exact: True  | approximate: True  | maxdiff: 0.0\n",
      "bnbias          | exact: True  | approximate: True  | maxdiff: 0.0\n",
      "bnraw           | exact: True  | approximate: True  | maxdiff: 0.0\n",
      "bnvar_inv       | exact: True  | approximate: True  | maxdiff: 0.0\n",
      "bnvar           | exact: True  | approximate: True  | maxdiff: 0.0\n",
      "bndiff2         | exact: True  | approximate: True  | maxdiff: 0.0\n",
      "bndiff          | exact: True  | approximate: True  | maxdiff: 0.0\n",
      "bnmeani         | exact: True  | approximate: True  | maxdiff: 0.0\n",
      "hprebn          | exact: True  | approximate: True  | maxdiff: 0.0\n",
      "embcat          | exact: True  | approximate: True  | maxdiff: 0.0\n",
      "W1              | exact: True  | approximate: True  | maxdiff: 0.0\n",
      "b1              | exact: True  | approximate: True  | maxdiff: 0.0\n",
      "emb             | exact: True  | approximate: True  | maxdiff: 0.0\n",
      "C               | exact: True  | approximate: True  | maxdiff: 0.0\n"
     ]
    }
   ],
   "source": [
    "# Exercise 1: backprop through the whole thing manually, \n",
    "# backpropagating through exactly all of the variables \n",
    "# as they are defined in the forward pass above, one by one\n",
    "\n",
    "# -----------------\n",
    "# YOUR CODE HERE :)\n",
    "# -----------------\n",
    "# loss = -(a+b+c..)/n\n",
    "# da = -1/n\n",
    "dlogprobs = torch.zeros_like(logprobs)\n",
    "dlogprobs[range(n), Yb] = -1/n\n",
    "\n",
    "# logprobs = log(probs)\n",
    "# dprobs = 1/probs\n",
    "dprobs = (1 / probs) * dlogprobs\n",
    "\n",
    "# probs[32 x 27] = counts[32 x 27] * counts_sum_inv[32 x 1]\n",
    "# two operations: replication and multiplication\n",
    "# backprop: multiplication and squashing by taking sum of the derivatives\n",
    "\n",
    "# c = a*b\n",
    "# a[3x3] * b[3x1]\n",
    "# a11*b1 a12*b1 a13*b1\n",
    "# a21*b2 a22*b2 a23*b2\n",
    "# a31*b3 a32*b3 a33*b3\n",
    "\n",
    "# dc/db = a --> [3x3]\n",
    "# dL/db = dL/dc [3x3] * dc/db [3x3] --> sum over 2nd dim\n",
    "\n",
    "# ref- micrograd: if one value's output is used in two expressions,\n",
    "#      we take sum of the derivatives during backprop\n",
    "dcounts_sum_inv = (counts * dprobs).sum(1, keepdim=True)\n",
    "\n",
    "# counts_sum_inv = counts_sum**-1\n",
    "dcounts_sum = -counts_sum**-2 * dcounts_sum_inv\n",
    "\n",
    "# probs = counts * counts_sum_inv\n",
    "dcounts = counts_sum_inv * dprobs # broadcast\n",
    "# counts_sum = counts.sum(1, keepdims=True)\n",
    "dcounts += torch.ones_like(counts) * dcounts_sum # broadcast\n",
    "\n",
    "# counts = norm_logits.exp()\n",
    "dnorm_logits = counts * dcounts\n",
    "\n",
    "# norm_logits[32x27] = logits[32x27] - logit_maxes[32x1]\n",
    "dlogit_maxes = (-1 * dnorm_logits).sum(1, keepdim=True)\n",
    "\n",
    "# logit_maxes = logits.max(1, keepdim=True).values\n",
    "dlogits = torch.zeros_like(logits)\n",
    "dlogits[range(n), logits.max(1).indices] = 1 \n",
    "dlogits *= dlogit_maxes\n",
    "# norm_logits = logits - logit_maxes\n",
    "dlogits += dnorm_logits.clone()\n",
    "\n",
    "# logits = h @ W2 + b2 \n",
    "dh = dlogits @ W2.T\n",
    "dW2 = h.T @ dlogits\n",
    "db2 = dlogits.sum(0, keepdim=True)\n",
    "\n",
    "# h = torch.tanh(hpreact)\n",
    "dhpreact = (1-h**2) * dh\n",
    "\n",
    "# hpreact = bngain * bnraw + bnbias\n",
    "dbngain = (bnraw * dhpreact).sum(0) # these are squashing operations\n",
    "dbnbias = (1 * dhpreact).sum(0) # these are squashing operations\n",
    "dbnraw = bngain * dhpreact\n",
    "\n",
    "# bnraw = bndiff * bnvar_inv\n",
    "dbnvar_inv = (bndiff * dbnraw).sum(0, keepdim=True)\n",
    "dbndiff = bnvar_inv * dbnraw\n",
    "\n",
    "# bnvar_inv = (bnvar + 1e-5)**-0.5\n",
    "dbnvar = -0.5 * (bnvar + 1e-5)**-1.5 * dbnvar_inv\n",
    "\n",
    "# bnvar = 1/(n-1)*(bndiff2).sum(0, keepdim=True)\n",
    "dbndiff2 = torch.ones_like(bndiff2) * (1/(n-1)) * dbnvar\n",
    "\n",
    "# bndiff2 = bndiff**2\n",
    "dbndiff += 2 * bndiff * dbndiff2.clone()\n",
    "\n",
    "# bndiff = hprebn - bnmeani\n",
    "dbnmeani = (-1 * dbndiff).sum(0, keepdim=True)\n",
    "dhprebn = dbndiff.clone()\n",
    "\n",
    "# bnmeani = 1/n*hprebn.sum(0, keepdim=True)\n",
    "dhprebn += torch.ones_like(hprebn) * (1/n) * dbnmeani\n",
    "\n",
    "# hprebn = embcat @ W1 + b1 \n",
    "dembcat = dhprebn @ W1.T\n",
    "dW1 = embcat.T @ dhprebn\n",
    "db1 = dhprebn.sum(0, keepdim=True)\n",
    "\n",
    "# embcat = emb.view(emb.shape[0], -1)\n",
    "demb = dembcat.view(emb.shape)\n",
    "\n",
    "# emb = C[Xb]\n",
    "# for each character in the input, increase the gradient of C by demb of that character\n",
    "dC = torch.zeros_like(C)\n",
    "for k in range(Xb.shape[0]):\n",
    "    for j in range(Xb.shape[1]):\n",
    "        ix = Xb[k,j]\n",
    "        dC[ix] += demb[k,j]\n",
    "        \n",
    "cmp('logprobs', dlogprobs, logprobs)\n",
    "cmp('probs', dprobs, probs)\n",
    "cmp('counts_sum_inv', dcounts_sum_inv, counts_sum_inv)\n",
    "cmp('counts_sum', dcounts_sum, counts_sum)\n",
    "cmp('counts', dcounts, counts)\n",
    "cmp('norm_logits', dnorm_logits, norm_logits)\n",
    "cmp('logit_maxes', dlogit_maxes, logit_maxes)\n",
    "cmp('logits', dlogits, logits)\n",
    "cmp('h', dh, h)\n",
    "cmp('W2', dW2, W2)\n",
    "cmp('b2', db2, b2)\n",
    "cmp('hpreact', dhpreact, hpreact)\n",
    "cmp('bngain', dbngain, bngain)\n",
    "cmp('bnbias', dbnbias, bnbias)\n",
    "cmp('bnraw', dbnraw, bnraw)\n",
    "cmp('bnvar_inv', dbnvar_inv, bnvar_inv)\n",
    "cmp('bnvar', dbnvar, bnvar)\n",
    "cmp('bndiff2', dbndiff2, bndiff2)\n",
    "cmp('bndiff', dbndiff, bndiff)\n",
    "cmp('bnmeani', dbnmeani, bnmeani)\n",
    "cmp('hprebn', dhprebn, hprebn)\n",
    "cmp('embcat', dembcat, embcat)\n",
    "cmp('W1', dW1, W1)\n",
    "cmp('b1', db1, b1)\n",
    "cmp('emb', demb, emb)\n",
    "cmp('C', dC, C)"
   ]
  },
  {
   "cell_type": "code",
   "execution_count": 229,
   "metadata": {
    "id": "ebLtYji_8PPw"
   },
   "outputs": [
    {
     "name": "stdout",
     "output_type": "stream",
     "text": [
      "3.7613778114318848 diff: -4.76837158203125e-07\n"
     ]
    }
   ],
   "source": [
    "# Exercise 2: backprop through cross_entropy but all in one go\n",
    "# to complete this challenge look at the mathematical expression of the loss,\n",
    "# take the derivative, simplify the expression, and just write it out\n",
    "\n",
    "# forward pass\n",
    "\n",
    "# before:\n",
    "# logit_maxes = logits.max(1, keepdim=True).values\n",
    "# norm_logits = logits - logit_maxes # subtract max for numerical stability\n",
    "# counts = norm_logits.exp()\n",
    "# counts_sum = counts.sum(1, keepdims=True)\n",
    "# counts_sum_inv = counts_sum**-1 # if I use (1.0 / counts_sum) instead then I can't get backprop to be bit exact...\n",
    "# probs = counts * counts_sum_inv\n",
    "# logprobs = probs.log()\n",
    "# loss = -logprobs[range(n), Yb].mean()\n",
    "\n",
    "# now:\n",
    "loss_fast = F.cross_entropy(logits, Yb)\n",
    "print(loss_fast.item(), 'diff:', (loss_fast - loss).item())"
   ]
  },
  {
   "cell_type": "code",
   "execution_count": 230,
   "metadata": {
    "id": "-gCXbB4C8PPx"
   },
   "outputs": [
    {
     "name": "stdout",
     "output_type": "stream",
     "text": [
      "logits          | exact: False | approximate: True  | maxdiff: 5.587935447692871e-09\n"
     ]
    }
   ],
   "source": [
    "# backward pass\n",
    "\n",
    "# -----------------\n",
    "# YOUR CODE HERE :)\n",
    "dlogits = F.softmax(logits, 1)\n",
    "dlogits[range(n), Yb] -= 1\n",
    "dlogits *= 1/n\n",
    "# -----------------\n",
    "\n",
    "cmp('logits', dlogits, logits) # I can only get approximate to be true, my maxdiff is 6e-9"
   ]
  },
  {
   "cell_type": "code",
   "execution_count": 202,
   "metadata": {},
   "outputs": [
    {
     "data": {
      "text/plain": [
       "torch.Size([32, 27])"
      ]
     },
     "execution_count": 202,
     "metadata": {},
     "output_type": "execute_result"
    }
   ],
   "source": [
    "p.shape"
   ]
  },
  {
   "cell_type": "code",
   "execution_count": 164,
   "metadata": {},
   "outputs": [
    {
     "data": {
      "text/plain": [
       "tensor([[ 8.8804e-01,  1.0511e+00, -4.5256e-01,  3.9286e-01, -4.4437e-01,\n",
       "          1.0129e+00, -2.2095e-01,  1.0465e-01, -5.8544e-01,  1.4312e-03,\n",
       "          1.7337e-01,  1.7488e-01,  8.1199e-02, -2.2635e-01,  7.6980e-02,\n",
       "         -8.6776e-01, -1.2193e+00, -4.6882e-01, -7.1514e-01,  4.9330e-01,\n",
       "          3.9535e-01, -3.0296e-01, -3.2465e-01,  8.1970e-01,  6.5088e-01,\n",
       "         -1.5624e-01, -5.0913e-01],\n",
       "        [ 2.8221e-01,  3.9474e-01,  8.8000e-01,  2.6190e-01, -5.8928e-02,\n",
       "         -7.2980e-02, -8.0004e-01,  8.5076e-02, -6.6819e-01, -4.6135e-01,\n",
       "          2.4005e-01,  1.4374e-01,  1.0129e-01, -3.5946e-01,  7.6927e-02,\n",
       "         -1.6044e-01, -3.7348e-01, -9.0309e-01, -6.2636e-01, -1.0963e-01,\n",
       "         -6.8351e-01, -4.9715e-01, -1.0194e+00,  5.6306e-01, -4.6535e-01,\n",
       "         -5.9723e-02, -5.9850e-01],\n",
       "        [-4.1014e-01, -2.9998e-01, -7.0495e-01, -9.5547e-01, -3.8487e-01,\n",
       "          3.3247e-01,  5.3231e-01,  5.4157e-01,  5.2048e-01, -1.0155e-01,\n",
       "         -4.3883e-01,  5.7445e-02,  2.4373e-01,  3.1086e-01, -4.0287e-01,\n",
       "         -3.0895e-01, -8.5983e-01, -3.3599e-02, -1.8412e-01,  1.1053e+00,\n",
       "          6.6396e-01,  1.8093e-01,  1.5471e-01,  3.3201e-01,  1.6082e-01,\n",
       "         -4.7438e-01, -2.8355e-01],\n",
       "        [-4.3862e-02, -2.6722e-01,  2.8142e-01,  3.0929e-01,  5.6741e-01,\n",
       "         -1.2950e-01,  1.9269e-01,  1.0453e-01,  1.9345e-01, -5.9942e-01,\n",
       "          1.5616e-01, -2.1969e-01, -1.1576e-01,  1.0389e-01,  5.0503e-01,\n",
       "          5.1931e-01, -3.3811e-01, -4.3857e-01, -7.7537e-01,  2.3421e-01,\n",
       "         -6.3934e-01, -3.9288e-01, -3.9663e-02, -3.7431e-01, -2.8887e-01,\n",
       "          2.8661e-01,  1.9607e-01],\n",
       "        [-5.7825e-01, -6.6541e-01, -1.6646e-01, -3.9796e-01, -6.2823e-01,\n",
       "          4.1912e-01,  8.8443e-02, -6.8718e-01,  4.8450e-01,  2.2285e-01,\n",
       "          4.0774e-02, -5.9697e-01,  2.1287e-01, -3.6900e-01,  3.6157e-01,\n",
       "          1.6157e+00, -5.0319e-01,  4.6503e-01,  4.5485e-01,  5.7032e-01,\n",
       "          2.9927e-01, -6.0658e-01, -4.1758e-01, -6.5300e-01,  3.5524e-01,\n",
       "         -3.0443e-01,  2.8904e-01],\n",
       "        [ 1.0866e-01,  1.2022e-01,  5.8214e-01,  5.9905e-01,  7.1826e-01,\n",
       "         -1.8504e-01, -9.8478e-02,  4.7783e-01, -2.5819e-01, -6.5629e-01,\n",
       "          3.6121e-01, -4.9000e-01, -1.8880e-01,  2.3011e-01,  6.6036e-01,\n",
       "          3.1838e-01, -6.2316e-01, -5.2841e-01, -1.1214e+00, -1.8640e-01,\n",
       "         -2.9382e-02, -8.5928e-02,  1.7882e-01, -4.6150e-01, -5.6769e-01,\n",
       "          8.5417e-01,  2.6247e-01],\n",
       "        [ 4.5736e-01, -1.1143e+00,  6.8306e-01, -9.5135e-01, -1.9165e-01,\n",
       "         -4.7884e-01,  4.8313e-01,  2.9744e-01,  1.7018e-01,  2.4579e-01,\n",
       "         -7.0682e-01, -3.3062e-02, -3.2116e-01, -7.4483e-01, -8.0098e-01,\n",
       "          4.9960e-01,  7.8357e-01,  1.1262e-01, -1.2313e+00, -1.9961e-01,\n",
       "         -3.4425e-01,  3.3319e-01,  1.4839e-01, -3.8764e-01,  9.1201e-02,\n",
       "         -3.7661e-01, -3.4400e-01],\n",
       "        [ 4.0689e-01,  1.9233e-01, -1.3190e-01,  1.3864e+00, -7.6982e-02,\n",
       "          6.6162e-01, -1.0058e-02,  1.0290e+00,  2.1062e-01, -1.1333e+00,\n",
       "         -7.7200e-03, -5.8042e-01, -3.9962e-01,  6.8204e-01, -4.8217e-01,\n",
       "         -7.1066e-01, -7.1041e-01, -8.2492e-01, -6.2502e-01,  1.0640e+00,\n",
       "          1.5605e-01,  5.6190e-01, -1.5367e-01,  3.8476e-01, -1.1677e-01,\n",
       "          6.5803e-01,  1.4626e-01],\n",
       "        [ 4.0972e-01, -7.7877e-02, -4.6498e-01,  1.3716e-01, -9.9880e-01,\n",
       "          3.4106e-01,  5.1280e-01,  9.5259e-01, -1.2264e-01, -3.8585e-01,\n",
       "         -6.2897e-02,  4.6965e-03,  2.1017e-01, -1.8240e-01, -9.2520e-01,\n",
       "         -5.1932e-01, -4.4035e-01,  1.5534e-01, -3.2174e-01,  1.0057e+00,\n",
       "          1.1163e-01,  1.0276e+00,  2.5481e-01,  4.8235e-01,  4.2276e-01,\n",
       "         -6.2620e-01, -5.4723e-02],\n",
       "        [-2.2919e-02, -7.5416e-01,  7.8097e-02, -6.0266e-01, -6.4881e-02,\n",
       "          2.8567e-01,  8.5715e-02, -1.7996e-01,  9.2458e-01,  6.1330e-01,\n",
       "         -7.8990e-01,  1.3391e-01,  1.9915e-01,  2.1677e-01, -3.0975e-01,\n",
       "         -1.5851e-01,  6.9032e-01,  3.5967e-01,  2.5285e-01, -2.6430e-01,\n",
       "          7.2773e-01, -2.4611e-01,  5.8555e-01, -3.0001e-01,  6.2732e-04,\n",
       "          1.7442e-01, -6.4204e-01],\n",
       "        [-5.5255e-01, -1.2078e+00,  4.3917e-01,  4.3253e-01,  1.4490e-01,\n",
       "          3.6504e-01, -3.1618e-01, -1.4260e+00,  3.8708e-01,  5.5405e-01,\n",
       "         -4.5941e-02, -3.0058e-01,  7.4386e-01,  8.6103e-02,  3.1550e-01,\n",
       "          1.5987e+00,  6.7482e-01,  7.4325e-01,  1.1544e+00,  2.8852e-01,\n",
       "          5.5595e-01, -8.2082e-01, -7.7336e-01, -5.5474e-02,  3.7065e-01,\n",
       "          9.1057e-02, -1.7877e-01],\n",
       "        [-2.7101e-02,  1.5960e-01, -5.6033e-02,  1.9058e+00, -7.2926e-01,\n",
       "          9.2263e-01,  9.3773e-01,  5.2472e-01,  4.4788e-01,  2.7753e-01,\n",
       "         -5.6570e-01, -1.6327e-01, -1.7909e-01,  5.3271e-02, -1.2920e+00,\n",
       "         -1.3354e+00, -1.5508e-01,  3.1703e-01, -3.6568e-01,  7.7109e-01,\n",
       "          7.4165e-01,  4.4110e-01, -3.2906e-01,  4.9908e-01,  6.8731e-01,\n",
       "          5.8336e-01, -5.2301e-01],\n",
       "        [-4.8767e-01, -8.3610e-01,  5.1658e-01, -8.7855e-01, -1.9366e-01,\n",
       "         -5.9882e-01,  8.6071e-01,  6.9709e-02,  5.6106e-01,  4.8474e-01,\n",
       "         -5.6913e-01,  1.8449e-01,  1.6964e-01, -1.5216e-01, -7.3184e-01,\n",
       "          2.1589e-01,  8.1749e-01,  3.0278e-01,  1.7583e-01, -4.3123e-01,\n",
       "          2.8212e-01,  2.2335e-01,  9.7745e-01, -9.0888e-01, -3.9017e-01,\n",
       "         -1.5991e-01, -2.8568e-01],\n",
       "        [-3.4004e-01, -1.8805e-01,  5.4254e-01, -5.3827e-01, -7.1030e-01,\n",
       "          9.0327e-01, -2.1012e-01, -9.0995e-01, -1.6415e-01,  3.9088e-01,\n",
       "         -1.1365e-01,  2.4328e-02,  6.3620e-01,  5.1002e-02,  3.8663e-01,\n",
       "          1.9652e-01, -1.6538e-01, -8.8800e-02,  7.9318e-01, -9.0654e-01,\n",
       "          6.1016e-01, -6.9436e-01, -7.3897e-01,  1.1769e-01,  1.3302e-01,\n",
       "          2.0348e-01, -2.1690e-02],\n",
       "        [ 3.4213e-01, -2.7397e-01, -5.0791e-02,  4.1061e-01, -6.4900e-01,\n",
       "          1.3684e-01, -1.0422e-01,  5.1637e-01,  3.8514e-01,  4.1273e-01,\n",
       "         -1.0463e-01,  3.0083e-01,  3.1088e-01,  1.2292e-01, -2.5681e-01,\n",
       "         -3.7646e-01, -4.5051e-01,  4.3943e-01, -1.9086e-01,  3.3108e-01,\n",
       "          4.4568e-01,  4.4968e-01, -3.5245e-01,  1.7721e-01, -2.9173e-01,\n",
       "         -4.1875e-01, -4.7696e-01],\n",
       "        [ 1.6431e-01,  5.1707e-01, -6.3082e-02, -6.5699e-01, -6.3470e-01,\n",
       "          8.8317e-01, -2.8339e-01, -5.1703e-01, -3.6041e-01,  3.1397e-01,\n",
       "         -6.2668e-02,  1.9899e-01,  4.5486e-01, -8.3397e-01, -3.5343e-01,\n",
       "         -8.3595e-01,  1.5178e-01, -6.8195e-01,  3.7490e-01, -7.5448e-01,\n",
       "          1.5442e-02, -3.4891e-01, -2.3043e-01,  6.6725e-01,  4.3930e-01,\n",
       "         -2.5627e-01, -6.9672e-01],\n",
       "        [-1.7726e-01, -2.0093e-01,  9.5686e-01,  2.8715e-01,  6.2297e-01,\n",
       "          4.8521e-01, -7.2449e-01, -2.1703e-01, -5.7794e-01, -4.9677e-01,\n",
       "          4.9850e-01, -3.9551e-01,  1.5739e-01,  4.6855e-01,  6.7404e-01,\n",
       "          5.5645e-01, -7.8493e-01, -7.0052e-01, -3.3624e-01,  2.4334e-01,\n",
       "         -2.0207e-01, -6.7268e-01, -1.3122e+00,  4.6179e-01, -2.7905e-01,\n",
       "          2.9375e-01,  4.7161e-01],\n",
       "        [ 3.1517e-01,  8.3147e-01,  2.9678e-01,  3.4241e-01,  8.9808e-02,\n",
       "          2.1146e-02, -5.3154e-01,  6.2326e-01, -4.5199e-01, -7.2798e-01,\n",
       "          6.8380e-01, -8.6621e-01, -4.1875e-01, -6.7665e-01,  1.4884e-01,\n",
       "         -3.1569e-01, -9.0764e-01, -2.7331e-01, -8.1771e-01,  2.6218e-01,\n",
       "         -6.0997e-01,  2.4399e-01, -3.5054e-01, -5.0260e-01, -3.6070e-01,\n",
       "          1.1097e-01,  4.5034e-01],\n",
       "        [-4.8767e-01, -8.3610e-01,  5.1658e-01, -8.7855e-01, -1.9366e-01,\n",
       "         -5.9882e-01,  8.6071e-01,  6.9709e-02,  5.6106e-01,  4.8474e-01,\n",
       "         -5.6913e-01,  1.8449e-01,  1.6964e-01, -1.5216e-01, -7.3184e-01,\n",
       "          2.1589e-01,  8.1749e-01,  3.0278e-01,  1.7583e-01, -4.3123e-01,\n",
       "          2.8212e-01,  2.2335e-01,  9.7745e-01, -9.0888e-01, -3.9017e-01,\n",
       "         -1.5991e-01, -2.8568e-01],\n",
       "        [-4.2023e-01, -5.3236e-01,  2.6331e-02, -8.5277e-01,  1.8336e-02,\n",
       "         -9.9446e-04,  6.0748e-01,  2.5985e-01, -8.1302e-02, -5.9426e-02,\n",
       "         -2.1223e-01,  1.7308e-01,  3.9856e-01,  2.9928e-01, -9.7818e-01,\n",
       "         -4.8861e-01, -2.1409e-01, -6.4410e-01, -2.4391e-01,  7.8303e-01,\n",
       "          2.8238e-01,  4.7378e-02,  6.1192e-02,  3.3984e-01, -1.0966e-01,\n",
       "         -4.1815e-01, -5.3171e-01],\n",
       "        [ 4.9553e-01, -7.9713e-01, -5.6612e-01,  1.4403e-01, -1.1219e-01,\n",
       "          1.8130e-01, -2.2184e-01,  8.9262e-02,  3.3047e-01, -4.6759e-01,\n",
       "          7.3784e-01,  1.0532e-01,  5.2902e-01, -5.2984e-01,  1.5978e-01,\n",
       "          6.8734e-01, -7.1290e-01, -5.1991e-01,  5.4683e-02,  4.4998e-01,\n",
       "         -5.3244e-01, -1.1293e-01, -3.9828e-01, -1.9643e-01,  7.6825e-02,\n",
       "          5.5209e-01,  1.2278e-01],\n",
       "        [ 4.8354e-01,  8.2396e-01,  5.6914e-01,  3.8884e-01, -2.5740e-01,\n",
       "          6.7587e-01, -7.0189e-02,  2.9225e-01, -2.9192e-01, -6.4681e-01,\n",
       "          4.6491e-01, -1.9761e-01, -2.2354e-01, -8.0121e-02,  2.0447e-01,\n",
       "          2.7523e-01, -4.9851e-01,  1.5116e-01, -4.9624e-01,  9.9536e-01,\n",
       "         -8.5943e-01,  5.0556e-02, -7.8492e-01, -1.7205e-02,  7.4712e-02,\n",
       "         -5.4752e-02,  9.3475e-03],\n",
       "        [-4.8767e-01, -8.3610e-01,  5.1658e-01, -8.7855e-01, -1.9366e-01,\n",
       "         -5.9882e-01,  8.6071e-01,  6.9709e-02,  5.6106e-01,  4.8474e-01,\n",
       "         -5.6913e-01,  1.8449e-01,  1.6964e-01, -1.5216e-01, -7.3184e-01,\n",
       "          2.1589e-01,  8.1749e-01,  3.0278e-01,  1.7583e-01, -4.3123e-01,\n",
       "          2.8212e-01,  2.2335e-01,  9.7745e-01, -9.0888e-01, -3.9017e-01,\n",
       "         -1.5991e-01, -2.8568e-01],\n",
       "        [ 4.1078e-01, -6.0603e-01, -1.4563e-01, -1.0807e+00,  4.7583e-01,\n",
       "         -1.8585e-01,  6.3653e-01, -1.7505e-01, -4.0311e-01,  2.4365e-01,\n",
       "         -1.8557e-02,  1.7774e-01,  7.9944e-02, -6.8775e-02,  9.0320e-02,\n",
       "          2.8843e-01,  8.1864e-01, -3.9106e-01,  6.2784e-02, -7.7793e-01,\n",
       "         -5.5965e-01, -4.6390e-01,  1.1259e+00, -4.8373e-01,  5.2030e-01,\n",
       "         -5.4411e-02, -7.2121e-01],\n",
       "        [ 2.6456e-02,  9.3712e-01, -3.0822e-01,  2.9058e-01, -1.7843e-01,\n",
       "          7.3399e-01, -4.5863e-01, -9.1625e-02, -2.3834e-01, -1.3329e-01,\n",
       "          1.1605e+00, -5.9373e-01, -9.1588e-02, -9.4770e-01,  9.4852e-02,\n",
       "         -6.4255e-01, -6.0709e-01, -8.5804e-01, -9.6587e-01, -2.3670e-01,\n",
       "         -8.8193e-01, -2.7682e-01, -1.1019e+00,  1.5782e+00,  4.1982e-01,\n",
       "         -1.9780e-01,  3.4339e-01],\n",
       "        [ 7.8460e-01, -7.6774e-02, -6.7679e-01, -5.6258e-01, -1.1684e-02,\n",
       "          1.0317e+00,  1.1956e-01, -9.9278e-02, -2.0187e-01,  1.6511e-01,\n",
       "         -5.5719e-03,  5.4291e-01,  4.8347e-01,  2.8236e-02, -4.1039e-01,\n",
       "         -9.4724e-01,  4.7000e-02, -4.3783e-01,  5.5795e-01, -8.8662e-01,\n",
       "         -1.6964e-01, -3.3644e-01,  6.6229e-01,  6.9818e-01,  7.6827e-01,\n",
       "          3.8080e-01, -1.1840e+00],\n",
       "        [ 1.8821e-01, -3.8787e-01, -4.9485e-01, -1.3420e+00,  1.2684e-01,\n",
       "         -4.4926e-01,  7.7217e-01, -4.3326e-02, -3.6224e-01,  3.2344e-01,\n",
       "         -7.8333e-01,  2.8463e-01,  4.7530e-01, -2.7875e-01, -4.4071e-01,\n",
       "         -8.1338e-01,  4.3099e-01, -4.3130e-01, -2.7710e-01, -1.3593e-01,\n",
       "         -5.0481e-01, -2.8061e-02,  1.1473e+00, -5.7116e-01,  5.1259e-02,\n",
       "         -2.8613e-01, -1.4500e+00],\n",
       "        [-2.1958e-01, -2.3379e-01,  4.2973e-01, -6.3753e-01, -7.3436e-02,\n",
       "         -2.4939e-01,  9.3544e-02, -3.3580e-01,  2.6074e-02,  4.3321e-01,\n",
       "         -4.4968e-01, -1.2226e-01,  1.3755e-01, -3.3109e-03,  2.0229e-01,\n",
       "          4.5139e-01,  2.8312e-01,  2.4802e-01,  2.7378e-01, -8.0151e-01,\n",
       "          9.4317e-01, -8.0669e-01,  1.8750e-01, -9.9605e-01, -6.8184e-01,\n",
       "          4.1523e-02,  1.3102e-01],\n",
       "        [ 7.6418e-01,  2.5735e-01, -5.1915e-01, -4.6442e-01,  7.6078e-02,\n",
       "          8.0203e-01,  2.7808e-01,  9.7974e-02, -1.1407e+00, -1.5748e-01,\n",
       "          3.2452e-01, -3.0594e-02, -2.6125e-01, -4.0423e-01, -2.1055e-01,\n",
       "         -4.0133e-02,  9.2149e-01, -1.9930e-01,  6.6694e-01, -1.9159e-01,\n",
       "          5.0578e-02,  3.0691e-02,  2.7549e-01,  7.5622e-01,  1.0002e+00,\n",
       "         -8.6921e-01, -6.0330e-01],\n",
       "        [-3.6509e-01, -6.6498e-01,  1.3505e-01, -1.5309e-01,  4.2525e-01,\n",
       "         -3.3935e-01,  6.9685e-01, -1.2151e-01,  6.4796e-01,  9.3143e-03,\n",
       "         -5.2389e-02,  1.2906e-01, -8.6986e-02,  5.8324e-02, -5.8217e-02,\n",
       "          6.2543e-01, -7.0669e-02, -2.6670e-01,  8.2757e-02, -2.6007e-01,\n",
       "          2.5446e-01, -2.2788e-01,  4.2039e-01, -7.2362e-01, -7.3474e-03,\n",
       "          5.0671e-01,  6.4428e-02],\n",
       "        [ 3.2436e-01,  5.8065e-01,  5.5157e-03,  7.3841e-01,  4.4585e-01,\n",
       "          6.1795e-01,  1.8321e-01,  2.1622e-02, -1.4918e-01, -3.8065e-01,\n",
       "          2.7067e-01, -2.4585e-01, -5.0710e-01, -7.6730e-02, -9.2587e-01,\n",
       "          1.4920e-01,  2.5473e-01, -1.2027e-02,  4.2346e-01,  6.0752e-01,\n",
       "          7.2042e-01,  5.5383e-02, -3.5465e-01,  1.0253e+00,  1.1097e+00,\n",
       "         -2.7326e-01, -1.1088e-01],\n",
       "        [ 3.7657e-01, -3.5605e-01,  7.7241e-01, -6.6411e-01,  7.3925e-01,\n",
       "         -1.1337e-01, -7.2243e-01, -3.7139e-01, -7.7983e-01,  5.0396e-01,\n",
       "         -1.8767e-01, -5.1028e-02, -1.5862e-02,  8.0605e-01,  1.4607e-01,\n",
       "          4.5538e-02,  4.7519e-01,  1.9997e-01,  2.9424e-01, -9.4434e-01,\n",
       "          5.8694e-01, -1.1441e+00,  5.4360e-01, -2.2059e-01, -5.0039e-01,\n",
       "          1.0989e-01, -5.5034e-01]], grad_fn=<AddBackward0>)"
      ]
     },
     "execution_count": 164,
     "metadata": {},
     "output_type": "execute_result"
    }
   ],
   "source": [
    "logits"
   ]
  },
  {
   "cell_type": "code",
   "execution_count": 165,
   "metadata": {},
   "outputs": [
    {
     "data": {
      "text/plain": [
       "tensor([ 8, 14, 15, 22,  0, 19,  9, 14,  5,  1, 20,  3,  8, 14, 12,  0, 11,  0,\n",
       "        26,  9, 25,  0,  1,  1,  7, 18,  9,  3,  5,  9,  0, 18])"
      ]
     },
     "execution_count": 165,
     "metadata": {},
     "output_type": "execute_result"
    }
   ],
   "source": [
    "Yb"
   ]
  },
  {
   "cell_type": "code",
   "execution_count": 166,
   "metadata": {},
   "outputs": [
    {
     "data": {
      "text/plain": [
       "tensor([-0.5854,  0.0769, -0.3090, -0.0397, -0.5783, -0.1864,  0.2458, -0.4822,\n",
       "         0.3411, -0.7542,  0.5559,  1.9058,  0.5611,  0.3866,  0.3109,  0.1643,\n",
       "        -0.3955,  0.3152, -0.2857, -0.0594,  0.5521,  0.4835, -0.8361, -0.6060,\n",
       "        -0.0916,  0.5580,  0.3234, -0.6375,  0.8020,  0.0093,  0.3244,  0.2942],\n",
       "       grad_fn=<IndexBackward0>)"
      ]
     },
     "execution_count": 166,
     "metadata": {},
     "output_type": "execute_result"
    }
   ],
   "source": [
    "logits[range(n), Yb] #picks up the logits of actual output from each example"
   ]
  },
  {
   "cell_type": "code",
   "execution_count": 170,
   "metadata": {},
   "outputs": [
    {
     "data": {
      "text/plain": [
       "torch.Size([32])"
      ]
     },
     "execution_count": 170,
     "metadata": {},
     "output_type": "execute_result"
    }
   ],
   "source": [
    "logits[range(n), Yb].shape"
   ]
  },
  {
   "cell_type": "code",
   "execution_count": 171,
   "metadata": {},
   "outputs": [
    {
     "data": {
      "text/plain": [
       "torch.Size([32])"
      ]
     },
     "execution_count": 171,
     "metadata": {},
     "output_type": "execute_result"
    }
   ],
   "source": [
    "dlogits[range(n), Yb].shape"
   ]
  },
  {
   "cell_type": "code",
   "execution_count": 175,
   "metadata": {},
   "outputs": [
    {
     "data": {
      "text/plain": [
       "torch.Size([32])"
      ]
     },
     "execution_count": 175,
     "metadata": {},
     "output_type": "execute_result"
    }
   ],
   "source": [
    "logits.exp().sum(1).shape"
   ]
  },
  {
   "cell_type": "code",
   "execution_count": 233,
   "metadata": {
    "id": "hd-MkhB68PPy"
   },
   "outputs": [
    {
     "name": "stdout",
     "output_type": "stream",
     "text": [
      "max diff: tensor(4.7684e-07, grad_fn=<MaxBackward1>)\n"
     ]
    }
   ],
   "source": [
    "# Exercise 3: backprop through batchnorm but all in one go\n",
    "# to complete this challenge look at the mathematical expression of the output of batchnorm,\n",
    "# take the derivative w.r.t. its input, simplify the expression, and just write it out\n",
    "# BatchNorm paper: https://arxiv.org/abs/1502.03167\n",
    "\n",
    "# forward pass\n",
    "\n",
    "# before:\n",
    "# bnmeani = 1/n*hprebn.sum(0, keepdim=True)\n",
    "# bndiff = hprebn - bnmeani\n",
    "# bndiff2 = bndiff**2\n",
    "# bnvar = 1/(n-1)*(bndiff2).sum(0, keepdim=True) # note: Bessel's correction (dividing by n-1, not n)\n",
    "# bnvar_inv = (bnvar + 1e-5)**-0.5\n",
    "# bnraw = bndiff * bnvar_inv\n",
    "# hpreact = bngain * bnraw + bnbias\n",
    "\n",
    "# now:\n",
    "hpreact_fast = bngain * (hprebn - hprebn.mean(0, keepdim=True)) / torch.sqrt(hprebn.var(0, keepdim=True, unbiased=True) + 1e-5) + bnbias\n",
    "print('max diff:', (hpreact_fast - hpreact).abs().max())"
   ]
  },
  {
   "cell_type": "code",
   "execution_count": 234,
   "metadata": {
    "id": "POdeZSKT8PPy"
   },
   "outputs": [
    {
     "name": "stdout",
     "output_type": "stream",
     "text": [
      "hprebn          | exact: False | approximate: True  | maxdiff: 9.313225746154785e-10\n"
     ]
    }
   ],
   "source": [
    "# backward pass\n",
    "\n",
    "# before we had:\n",
    "# dbnraw = bngain * dhpreact\n",
    "# dbndiff = bnvar_inv * dbnraw\n",
    "# dbnvar_inv = (bndiff * dbnraw).sum(0, keepdim=True)\n",
    "# dbnvar = (-0.5*(bnvar + 1e-5)**-1.5) * dbnvar_inv\n",
    "# dbndiff2 = (1.0/(n-1))*torch.ones_like(bndiff2) * dbnvar\n",
    "# dbndiff += (2*bndiff) * dbndiff2\n",
    "# dhprebn = dbndiff.clone()\n",
    "# dbnmeani = (-dbndiff).sum(0)\n",
    "# dhprebn += 1.0/n * (torch.ones_like(hprebn) * dbnmeani)\n",
    "\n",
    "# calculate dhprebn given dhpreact (i.e. backprop through the batchnorm)\n",
    "# (you'll also need to use some of the variables from the forward pass up above)\n",
    "\n",
    "# -----------------\n",
    "# YOUR CODE HERE :)\n",
    "dhprebn = bngain*bnvar_inv/n * (n*dhpreact - dhpreact.sum(0) - n/(n-1)*bnraw*(dhpreact*bnraw).sum(0))\n",
    "# -----------------\n",
    "\n",
    "cmp('hprebn', dhprebn, hprebn) # I can only get approximate to be true, my maxdiff is 9e-10"
   ]
  },
  {
   "cell_type": "code",
   "execution_count": 210,
   "metadata": {},
   "outputs": [
    {
     "data": {
      "text/plain": [
       "torch.Size([1, 64])"
      ]
     },
     "execution_count": 210,
     "metadata": {},
     "output_type": "execute_result"
    }
   ],
   "source": [
    "temp = (bngain/n) * ((n-1)*(1e-5) - hprebn.var(0, keepdim=True)) / (hprebn.var(0,keepdim=True) + 1e-5)**1.5\n",
    "temp.shape"
   ]
  },
  {
   "cell_type": "code",
   "execution_count": 247,
   "metadata": {
    "id": "wPy8DhqB8PPz"
   },
   "outputs": [
    {
     "name": "stdout",
     "output_type": "stream",
     "text": [
      "12297\n",
      "      0/ 200000: 3.7743\n",
      "  10000/ 200000: 2.1729\n",
      "  20000/ 200000: 2.4344\n",
      "  30000/ 200000: 2.4682\n",
      "  40000/ 200000: 1.9937\n",
      "  50000/ 200000: 2.3230\n",
      "  60000/ 200000: 2.3803\n",
      "  70000/ 200000: 2.0618\n",
      "  80000/ 200000: 2.3880\n",
      "  90000/ 200000: 2.1701\n",
      " 100000/ 200000: 1.9276\n",
      " 110000/ 200000: 2.3165\n",
      " 120000/ 200000: 1.9830\n",
      " 130000/ 200000: 2.4268\n",
      " 140000/ 200000: 2.4048\n",
      " 150000/ 200000: 2.1954\n",
      " 160000/ 200000: 1.9155\n",
      " 170000/ 200000: 1.8480\n",
      " 180000/ 200000: 1.9497\n",
      " 190000/ 200000: 1.8970\n"
     ]
    }
   ],
   "source": [
    "# Exercise 4: putting it all together!\n",
    "# Train the MLP neural net with your own backward pass\n",
    "\n",
    "# init\n",
    "n_embd = 10 # the dimensionality of the character embedding vectors\n",
    "n_hidden = 200 # the number of neurons in the hidden layer of the MLP\n",
    "\n",
    "g = torch.Generator().manual_seed(2147483647) # for reproducibility\n",
    "C  = torch.randn((vocab_size, n_embd),            generator=g)\n",
    "# Layer 1\n",
    "W1 = torch.randn((n_embd * block_size, n_hidden), generator=g) * (5/3)/((n_embd * block_size)**0.5)\n",
    "b1 = torch.randn(n_hidden,                        generator=g) * 0.1\n",
    "# Layer 2\n",
    "W2 = torch.randn((n_hidden, vocab_size),          generator=g) * 0.1\n",
    "b2 = torch.randn(vocab_size,                      generator=g) * 0.1\n",
    "# BatchNorm parameters\n",
    "bngain = torch.randn((1, n_hidden))*0.1 + 1.0\n",
    "bnbias = torch.randn((1, n_hidden))*0.1\n",
    "\n",
    "parameters = [C, W1, b1, W2, b2, bngain, bnbias]\n",
    "print(sum(p.nelement() for p in parameters)) # number of parameters in total\n",
    "for p in parameters:\n",
    "  p.requires_grad = True\n",
    "\n",
    "# same optimization as last time\n",
    "max_steps = 200000\n",
    "batch_size = 32\n",
    "n = batch_size # convenience\n",
    "lossi = []\n",
    "\n",
    "# use this context manager for efficiency once your backward pass is written (TODO)\n",
    "with torch.no_grad():\n",
    "\n",
    "    # kick off optimization\n",
    "    for i in range(max_steps):\n",
    "\n",
    "      # minibatch construct\n",
    "      ix = torch.randint(0, Xtr.shape[0], (batch_size,), generator=g)\n",
    "      Xb, Yb = Xtr[ix], Ytr[ix] # batch X,Y\n",
    "\n",
    "      # forward pass\n",
    "      emb = C[Xb] # embed the characters into vectors\n",
    "      embcat = emb.view(emb.shape[0], -1) # concatenate the vectors\n",
    "      # Linear layer\n",
    "      hprebn = embcat @ W1 + b1 # hidden layer pre-activation\n",
    "      # BatchNorm layer\n",
    "      # -------------------------------------------------------------\n",
    "      bnmean = hprebn.mean(0, keepdim=True)\n",
    "      bnvar = hprebn.var(0, keepdim=True, unbiased=True)\n",
    "      bnvar_inv = (bnvar + 1e-5)**-0.5\n",
    "      bnraw = (hprebn - bnmean) * bnvar_inv\n",
    "      hpreact = bngain * bnraw + bnbias\n",
    "      # -------------------------------------------------------------\n",
    "      # Non-linearity\n",
    "      h = torch.tanh(hpreact) # hidden layer\n",
    "      logits = h @ W2 + b2 # output layer\n",
    "      loss = F.cross_entropy(logits, Yb) # loss function\n",
    "\n",
    "      # backward pass\n",
    "      for p in parameters:\n",
    "        p.grad = None\n",
    "      #loss.backward() # use this for correctness comparisons, delete it later!\n",
    "\n",
    "      # manual backprop! #swole_doge_meme\n",
    "      # -----------------\n",
    "      # YOUR CODE HERE :)\n",
    "      dlogits = F.softmax(logits, 1)\n",
    "      dlogits[range(n), Yb] -= 1\n",
    "      dlogits *= 1/n\n",
    "\n",
    "      # logits = h @ W2 + b2 \n",
    "      dh = dlogits @ W2.T\n",
    "      dW2 = h.T @ dlogits\n",
    "      db2 = dlogits.sum(0)\n",
    "\n",
    "      # h = torch.tanh(hpreact)\n",
    "      dhpreact = (1-h**2) * dh\n",
    "\n",
    "      # hpreact = bngain * bnraw + bnbias\n",
    "      dbngain = (bnraw * dhpreact).sum(0, keepdim=True) # these are squashing operations\n",
    "      dbnbias = (1 * dhpreact).sum(0, keepdim=True) # these are squashing operations\n",
    "      dhprebn = bngain*bnvar_inv/n * (n*dhpreact - dhpreact.sum(0) - n/(n-1)*bnraw*(dhpreact*bnraw).sum(0))\n",
    "\n",
    "      # hprebn = embcat @ W1 + b1 \n",
    "      dembcat = dhprebn @ W1.T\n",
    "      dW1 = embcat.T @ dhprebn\n",
    "      db1 = dhprebn.sum(0)\n",
    "\n",
    "      # embcat = emb.view(emb.shape[0], -1)\n",
    "      demb = dembcat.view(emb.shape)\n",
    "\n",
    "      # emb = C[Xb]\n",
    "      # for each character in the input, increase the gradient of C by demb of that character\n",
    "      dC = torch.zeros_like(C)\n",
    "      for k in range(Xb.shape[0]):\n",
    "        for j in range(Xb.shape[1]):\n",
    "            ix = Xb[k,j]\n",
    "            dC[ix] += demb[k,j]\n",
    "      grads = [dC, dW1, db1, dW2, db2, dbngain, dbnbias]\n",
    "      # -----------------\n",
    "    #   for p, grad in zip(parameters, grads):\n",
    "    #     print(p.grad.shape)\n",
    "    #     print(grad.shape)\n",
    "    #     print(\"-----------\")\n",
    "\n",
    "\n",
    "      # update\n",
    "      lr = 0.1 if i < 100000 else 0.01 # step learning rate decay\n",
    "      for p, grad in zip(parameters, grads):\n",
    "        #p.data += -lr * p.grad # old way of cheems doge (using PyTorch grad from .backward())\n",
    "        p.data += -lr * grad # new way of swole doge TODO: enable\n",
    "\n",
    "      # track stats\n",
    "      if i % 10000 == 0: # print every once in a while\n",
    "        print(f'{i:7d}/{max_steps:7d}: {loss.item():.4f}')\n",
    "      lossi.append(loss.log10().item())\n",
    "  "
   ]
  },
  {
   "cell_type": "code",
   "execution_count": 246,
   "metadata": {
    "id": "ZEpI0hMW8PPz"
   },
   "outputs": [
    {
     "name": "stdout",
     "output_type": "stream",
     "text": [
      "(27, 10)        | exact: False | approximate: True  | maxdiff: 2.60770320892334e-08\n",
      "(30, 200)       | exact: False | approximate: True  | maxdiff: 1.1175870895385742e-08\n",
      "(200,)          | exact: False | approximate: True  | maxdiff: 6.05359673500061e-09\n",
      "(200, 27)       | exact: False | approximate: True  | maxdiff: 2.2351741790771484e-08\n",
      "(27,)           | exact: False | approximate: True  | maxdiff: 7.450580596923828e-09\n",
      "(1, 200)        | exact: False | approximate: True  | maxdiff: 1.862645149230957e-09\n",
      "(1, 200)        | exact: False | approximate: True  | maxdiff: 4.6566128730773926e-09\n"
     ]
    }
   ],
   "source": [
    "# useful for checking your gradients\n",
    "for p,g in zip(parameters, grads):\n",
    "  cmp(str(tuple(p.shape)), g, p)"
   ]
  },
  {
   "cell_type": "code",
   "execution_count": 248,
   "metadata": {
    "id": "KImLWNoh8PP0"
   },
   "outputs": [],
   "source": [
    "# calibrate the batch norm at the end of training\n",
    "\n",
    "with torch.no_grad():\n",
    "  # pass the training set through\n",
    "  emb = C[Xtr]\n",
    "  embcat = emb.view(emb.shape[0], -1)\n",
    "  hpreact = embcat @ W1 + b1\n",
    "  # measure the mean/std over the entire training set\n",
    "  bnmean = hpreact.mean(0, keepdim=True)\n",
    "  bnvar = hpreact.var(0, keepdim=True, unbiased=True)\n"
   ]
  },
  {
   "cell_type": "code",
   "execution_count": 249,
   "metadata": {
    "id": "6aFnP_Zc8PP0"
   },
   "outputs": [
    {
     "name": "stdout",
     "output_type": "stream",
     "text": [
      "train 2.073286771774292\n",
      "val 2.1111414432525635\n"
     ]
    }
   ],
   "source": [
    "# evaluate train and val loss\n",
    "\n",
    "@torch.no_grad() # this decorator disables gradient tracking\n",
    "def split_loss(split):\n",
    "  x,y = {\n",
    "    'train': (Xtr, Ytr),\n",
    "    'val': (Xdev, Ydev),\n",
    "    'test': (Xte, Yte),\n",
    "  }[split]\n",
    "  emb = C[x] # (N, block_size, n_embd)\n",
    "  embcat = emb.view(emb.shape[0], -1) # concat into (N, block_size * n_embd)\n",
    "  hpreact = embcat @ W1 + b1\n",
    "  hpreact = bngain * (hpreact - bnmean) * (bnvar + 1e-5)**-0.5 + bnbias\n",
    "  h = torch.tanh(hpreact) # (N, n_hidden)\n",
    "  logits = h @ W2 + b2 # (N, vocab_size)\n",
    "  loss = F.cross_entropy(logits, y)\n",
    "  print(split, loss.item())\n",
    "\n",
    "split_loss('train')\n",
    "split_loss('val')"
   ]
  },
  {
   "cell_type": "code",
   "execution_count": null,
   "metadata": {
    "id": "esWqmhyj8PP1"
   },
   "outputs": [],
   "source": [
    "# I achieved:\n",
    "# train 2.0718822479248047\n",
    "# val 2.1162495613098145"
   ]
  },
  {
   "cell_type": "code",
   "execution_count": 250,
   "metadata": {
    "id": "xHeQNv3s8PP1"
   },
   "outputs": [
    {
     "name": "stdout",
     "output_type": "stream",
     "text": [
      "mora.\n",
      "mayah.\n",
      "seel.\n",
      "ndhayla.\n",
      "reimani.\n",
      "jarlee.\n",
      "adered.\n",
      "elin.\n",
      "shi.\n",
      "jenleigh.\n",
      "sana.\n",
      "arleigh.\n",
      "malaia.\n",
      "noshubergihiman.\n",
      "trick.\n",
      "welle.\n",
      "joseulanu.\n",
      "zayven.\n",
      "jamyleyeks.\n",
      "kayshaston.\n"
     ]
    }
   ],
   "source": [
    "# sample from the model\n",
    "g = torch.Generator().manual_seed(2147483647 + 10)\n",
    "\n",
    "for _ in range(20):\n",
    "    \n",
    "    out = []\n",
    "    context = [0] * block_size # initialize with all ...\n",
    "    while True:\n",
    "      # forward pass\n",
    "      emb = C[torch.tensor([context])] # (1,block_size,d)      \n",
    "      embcat = emb.view(emb.shape[0], -1) # concat into (N, block_size * n_embd)\n",
    "      hpreact = embcat @ W1 + b1\n",
    "      hpreact = bngain * (hpreact - bnmean) * (bnvar + 1e-5)**-0.5 + bnbias\n",
    "      h = torch.tanh(hpreact) # (N, n_hidden)\n",
    "      logits = h @ W2 + b2 # (N, vocab_size)\n",
    "      # sample\n",
    "      probs = F.softmax(logits, dim=1)\n",
    "      ix = torch.multinomial(probs, num_samples=1, generator=g).item()\n",
    "      context = context[1:] + [ix]\n",
    "      out.append(ix)\n",
    "      if ix == 0:\n",
    "        break\n",
    "    \n",
    "    print(''.join(itos[i] for i in out))"
   ]
  },
  {
   "cell_type": "code",
   "execution_count": null,
   "metadata": {},
   "outputs": [],
   "source": []
  }
 ],
 "metadata": {
  "colab": {
   "provenance": []
  },
  "kernelspec": {
   "display_name": "Python 3 (ipykernel)",
   "language": "python",
   "name": "python3"
  },
  "language_info": {
   "codemirror_mode": {
    "name": "ipython",
    "version": 3
   },
   "file_extension": ".py",
   "mimetype": "text/x-python",
   "name": "python",
   "nbconvert_exporter": "python",
   "pygments_lexer": "ipython3",
   "version": "3.9.13"
  }
 },
 "nbformat": 4,
 "nbformat_minor": 1
}
